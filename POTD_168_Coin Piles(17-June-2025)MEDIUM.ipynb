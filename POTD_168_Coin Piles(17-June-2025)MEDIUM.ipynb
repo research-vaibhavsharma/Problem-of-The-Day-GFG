{
 "cells": [
  {
   "cell_type": "markdown",
   "id": "9abdcbba-58f3-4d38-8a24-cf0b2fec4c9f",
   "metadata": {},
   "source": [
    "# [Coin Piles](https://www.geeksforgeeks.org/problems/coin-piles5152/1)"
   ]
  },
  {
   "cell_type": "code",
   "execution_count": 1,
   "id": "7cbce2fc-f7e0-4971-bc72-394d248ceb6c",
   "metadata": {},
   "outputs": [],
   "source": [
    "import bisect\n",
    "\n",
    "class Solution:\n",
    "    def minimumCoins(self,arr, k):\n",
    "        # Sort the array to handle values in increasing order\n",
    "        arr.sort()\n",
    "        n = len(arr)\n",
    "    \n",
    "        # Prefix sum array to compute total coins quickly\n",
    "        prefix = [0] * n\n",
    "        prefix[0] = arr[0]\n",
    "        for i in range(1, n):\n",
    "            prefix[i] = prefix[i - 1] + arr[i]\n",
    "    \n",
    "        ans = float('inf')\n",
    "        prev = 0\n",
    "    \n",
    "        for i in range(n):\n",
    "            # Update `prev` only when \n",
    "            # arr[i] is different from arr[i - 1] else continue\n",
    "            # This represents total coins from piles smaller than arr[i]\n",
    "            if i > 0 and arr[i] == arr[i - 1]:\n",
    "                continue\n",
    "    \n",
    "            if i > 0:\n",
    "                prev = prefix[i - 1]\n",
    "    \n",
    "            # Find the first index where arr[pos] > arr[i] + k\n",
    "            pos = bisect.bisect_right(arr, arr[i] + k, i, n)\n",
    "    \n",
    "            # Total coins to remove:\n",
    "            # - `prev` for coins from smaller piles (before i)\n",
    "            # - `(prefix[n - 1] - prefix[pos - 1])` is the total \n",
    "            #  coins after pos index\n",
    "            # - coins that is allowed to stay in the range : [arr[i], arr[i] + k]\n",
    "            totalToRemove = prev\n",
    "            if pos < n:\n",
    "                totalToRemove += prefix[n - 1] - prefix[pos - 1] - (n - pos) * (arr[i] + k)\n",
    "    \n",
    "            # Update answer with minimum coins removed\n",
    "            ans = min(ans, totalToRemove)\n",
    "    \n",
    "        return ans\n",
    "        "
   ]
  },
  {
   "cell_type": "markdown",
   "id": "dc431909-a928-45ce-a0b0-b5214df0d173",
   "metadata": {},
   "source": [
    "## Problem Statement:\n",
    "You are given an array `arr[]` of integers, where each element represents the number of coins in a pile. You are also given an integer `k`.\n",
    "Your task is to remove the minimum number of coins such that the absolute difference between the number of `coins` in any two updated piles is at most `k`.\n",
    "\n",
    "Note: You can also remove a pile by removing all the coins of that pile.\n",
    "\n",
    "## Approach:Binary Search and Prefix Sum\n",
    "First sort the array to handle piles in order, then for each pile, we assume it to be the smallest remaining pile and compute the cost to remove all smaller piles entirely and trim larger ones to ensure no pile exceeds `arr[i] + k`. For each index, we efficiently calculate the coins to remove and select the minimum among them.\n",
    "\n",
    "## Time Complexity:\n",
    "1. Time Complexity: $O(n*\\log(n))$ due to sorting and performing binary search for each of the n elements.\n",
    "2. Space complexity: $O(n)$ due to the prefix sum array used to store cumulative sums of the sorted array."
   ]
  }
 ],
 "metadata": {
  "kernelspec": {
   "display_name": "Python 3 (ipykernel)",
   "language": "python",
   "name": "python3"
  },
  "language_info": {
   "codemirror_mode": {
    "name": "ipython",
    "version": 3
   },
   "file_extension": ".py",
   "mimetype": "text/x-python",
   "name": "python",
   "nbconvert_exporter": "python",
   "pygments_lexer": "ipython3",
   "version": "3.12.9"
  }
 },
 "nbformat": 4,
 "nbformat_minor": 5
}
