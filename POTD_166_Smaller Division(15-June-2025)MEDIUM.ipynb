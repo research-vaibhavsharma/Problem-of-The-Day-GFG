{
 "cells": [
  {
   "cell_type": "markdown",
   "id": "9ae6fca6-db25-488d-962a-4699dec873e6",
   "metadata": {},
   "source": [
    "# [Smallest Divisor](https://www.geeksforgeeks.org/problems/smallest-divisor/1)"
   ]
  },
  {
   "cell_type": "code",
   "execution_count": 1,
   "id": "97ad54ff-746b-4764-a435-b4ca1714d19f",
   "metadata": {},
   "outputs": [],
   "source": [
    "def smallestDivisor(arr, k):\n",
    "    # Ensure arr is not empty to avoid max() on empty list\n",
    "    if not arr:\n",
    "        return 0  # or raise ValueError(\"Array must not be empty\")\n",
    "\n",
    "    left, right = 1, max(arr)\n",
    "    result = right\n",
    "\n",
    "    while left <= right:\n",
    "        mid = (left + right) // 2\n",
    "        # Avoid math.ceil: use integer trick\n",
    "        total = sum((x + mid - 1) // mid for x in arr)\n",
    "\n",
    "        if total <= k:\n",
    "            result = mid\n",
    "            right = mid - 1\n",
    "        else:\n",
    "            left = mid + 1\n",
    "\n",
    "    return result\n"
   ]
  },
  {
   "cell_type": "markdown",
   "id": "7ddf3d38-80d6-4916-bcd0-77b013818002",
   "metadata": {},
   "source": [
    "## Problem Statement:\n",
    "Given an integer array `arr[]` and an integer `k` (where `k ≥ arr.length`), find the smallest positive integer divisor such that the sum of the ceiling values of each element in `arr[]` divided by this divisor is less than or equal to `k`.\n",
    "\n",
    "## Approach:\n",
    "Binary Search on the Divisor\n",
    "Use binary search to find the smallest divisor such that the sum of ceilings is ≤ k.\n",
    "\n",
    "For a given mid (the current divisor candidate), compute:\n",
    "$$ sum = \\sum_{i=0}^{n-1}\\left\\lceil \\frac{arr[i]}{mid} \\right\\rceil$$\n",
    "## Time Complexity:\n",
    "* Time Complexity: Binary search over `[1, max(arr)]`: $O(\\log(\\max(arr)))$\n",
    "* compute sum of ceilings in $O(n)$"
   ]
  }
 ],
 "metadata": {
  "kernelspec": {
   "display_name": "Python 3 (ipykernel)",
   "language": "python",
   "name": "python3"
  },
  "language_info": {
   "codemirror_mode": {
    "name": "ipython",
    "version": 3
   },
   "file_extension": ".py",
   "mimetype": "text/x-python",
   "name": "python",
   "nbconvert_exporter": "python",
   "pygments_lexer": "ipython3",
   "version": "3.12.9"
  }
 },
 "nbformat": 4,
 "nbformat_minor": 5
}
