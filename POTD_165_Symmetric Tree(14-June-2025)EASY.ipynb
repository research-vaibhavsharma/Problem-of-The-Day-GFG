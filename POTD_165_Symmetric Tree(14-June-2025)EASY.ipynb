{
 "cells": [
  {
   "cell_type": "markdown",
   "id": "a99cb6d6-b13f-43ce-aefa-3ce47ed0bec5",
   "metadata": {},
   "source": [
    "# [Symmetric Tree](https://www.geeksforgeeks.org/problems/symmetric-tree/1)"
   ]
  },
  {
   "cell_type": "code",
   "execution_count": 1,
   "id": "01e408a0-437a-476e-8d4d-aade0e71a640",
   "metadata": {},
   "outputs": [],
   "source": [
    "class Node:\n",
    "    def __init__(self, val):\n",
    "        self.right = None\n",
    "        self.data = val\n",
    "        self.left = None\n",
    "\n",
    "class Solution:\n",
    "    def isSymmetric(self, root):\n",
    "        def isMirror(t1, t2):\n",
    "            if t1 is None and t2 is None:\n",
    "                return True\n",
    "            if t1 is None or t2 is None:\n",
    "                return False\n",
    "            return (t1.data == t2.data and\n",
    "                    isMirror(t1.left, t2.right) and\n",
    "                    isMirror(t1.right, t2.left))\n",
    "        \n",
    "        return isMirror(root, root)\n"
   ]
  },
  {
   "cell_type": "markdown",
   "id": "63cfdd17-d10b-4b2f-ac2d-2df06248af10",
   "metadata": {},
   "source": [
    "## Problem statement:\n",
    "Given the root of a binary tree, check whether it is `symmetric`, i.e., whether the tree is a `mirror` `image of itself`. A binary tree is symmetric if the left subtree is a mirror reflection of the right subtree.\n",
    "## Approach: \n",
    "1. Create a helper function `isMirror(t1, t2)` that:\n",
    "* Returns `True` if both nodes are `None` (base case).\n",
    "* Returns `False` if only one is `None`.\n",
    "* Returns `True` if:\n",
    "    * `t1.data == t2.data`\n",
    "    * `isMirror(t1.left, t2.right)`\n",
    "    * `isMirror(t1.right, t2.left)`\n",
    "2. In the main function `isSymmetric`, call `isMirror(root, root)`.\n",
    "\n",
    "## Time Complexity:\n",
    "* Time Complexity: $O(n)$, where `n` is the number of nodes. Each node is visited once.\n",
    "* Space Complexity: $O(h)$ for the recursion stack, where `h` is the height of the tree."
   ]
  }
 ],
 "metadata": {
  "kernelspec": {
   "display_name": "Python 3 (ipykernel)",
   "language": "python",
   "name": "python3"
  },
  "language_info": {
   "codemirror_mode": {
    "name": "ipython",
    "version": 3
   },
   "file_extension": ".py",
   "mimetype": "text/x-python",
   "name": "python",
   "nbconvert_exporter": "python",
   "pygments_lexer": "ipython3",
   "version": "3.12.9"
  }
 },
 "nbformat": 4,
 "nbformat_minor": 5
}
