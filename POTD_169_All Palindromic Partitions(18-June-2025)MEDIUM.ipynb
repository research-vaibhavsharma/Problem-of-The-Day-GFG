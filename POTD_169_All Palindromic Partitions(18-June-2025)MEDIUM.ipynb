{
 "cells": [
  {
   "cell_type": "markdown",
   "id": "448fd90b-14af-45e3-8058-eeb77d8708b0",
   "metadata": {},
   "source": [
    "# [All Palindromic Partitions](https://www.geeksforgeeks.org/problems/find-all-possible-palindromic-partitions-of-a-string/1)"
   ]
  },
  {
   "cell_type": "code",
   "execution_count": 1,
   "id": "d9a45731-6aca-4846-9b31-b2bcdc056143",
   "metadata": {},
   "outputs": [],
   "source": [
    "class Solution:\n",
    "    def palinParts(self, s):\n",
    "        n = len(s)\n",
    "        result = []\n",
    "        \n",
    "        # Precompute palindrome information using DP\n",
    "        # dp[i][j] = True if s[i:j+1] is a palindrome\n",
    "        dp = [[False] * n for _ in range(n)]\n",
    "        \n",
    "        # Every single character is a palindrome\n",
    "        for i in range(n):\n",
    "            dp[i][i] = True\n",
    "        \n",
    "        # Check for palindromes of length 2\n",
    "        for i in range(n - 1):\n",
    "            if s[i] == s[i + 1]:\n",
    "                dp[i][i + 1] = True\n",
    "        \n",
    "        # Check for palindromes of length 3 and more\n",
    "        for length in range(3, n + 1):\n",
    "            for i in range(n - length + 1):\n",
    "                j = i + length - 1\n",
    "                if s[i] == s[j] and dp[i + 1][j - 1]:\n",
    "                    dp[i][j] = True\n",
    "        \n",
    "        def backtrack(start, current_partition):\n",
    "            # Base case: if we've processed the entire string\n",
    "            if start == n:\n",
    "                result.append(current_partition[:])  # Add a copy of current partition\n",
    "                return\n",
    "            \n",
    "            # Try all possible palindromes starting from 'start'\n",
    "            for end in range(start, n):\n",
    "                if dp[start][end]:  # If s[start:end+1] is a palindrome\n",
    "                    current_partition.append(s[start:end + 1])\n",
    "                    backtrack(end + 1, current_partition)\n",
    "                    current_partition.pop()  # Backtrack\n",
    "        \n",
    "        backtrack(0, [])\n",
    "        return result\n"
   ]
  },
  {
   "cell_type": "markdown",
   "id": "2fadeba1-f5f7-4d41-bc4f-1a2d5cd66978",
   "metadata": {},
   "source": [
    "## Problem Statement:\n",
    "Given a string s, find all possible ways to partition it such that every substring in the partition is a palindrome.\n",
    "\n",
    "## Approach: Backtracking+CheckPalindrome\n",
    "1. Backtracking Strategy:\n",
    "* At each position, try to form palindromes of different lengths starting from that position\n",
    "* If a valid palindrome is found, recursively solve for the remaining substring\n",
    "* `Backtrack` by removing the current palindrome and trying the next possibility \n",
    "2. Key Components: \n",
    "* A helper function to check if a substring is a palindrome\n",
    "* A recursive function that explores all partitions\n",
    "* `Base case`: when we've processed the entire string \n",
    "3. Optimization: \n",
    "* Pre-compute palindrome information using `dynamic programming` to avoid repeated checks\n",
    "* Use a 2D boolean array where `dp[i][j]` indicates if substring from index `i` to `j` is a palindrome.\n",
    "\n",
    "## Time Complexity:\n",
    "1. Time Complexity: $O(N × 2^N)$\n",
    "\n",
    "* We have $2^N$ possible partitions in the worst case\n",
    "* For each partition, we spend $O(N)$ time to copy it to the result\n",
    "* The DP preprocessing takes $O(N^2)$ time\n",
    "\n",
    "2.Space Complexity: $O(N^2)$\n",
    "\n",
    "* $O(N^2)$ for the DP table\n",
    "* $O(N)$ for the recursion stack depth\n",
    "* $O(N)$ for storing each partition"
   ]
  }
 ],
 "metadata": {
  "kernelspec": {
   "display_name": "Python 3 (ipykernel)",
   "language": "python",
   "name": "python3"
  },
  "language_info": {
   "codemirror_mode": {
    "name": "ipython",
    "version": 3
   },
   "file_extension": ".py",
   "mimetype": "text/x-python",
   "name": "python",
   "nbconvert_exporter": "python",
   "pygments_lexer": "ipython3",
   "version": "3.12.9"
  }
 },
 "nbformat": 4,
 "nbformat_minor": 5
}
