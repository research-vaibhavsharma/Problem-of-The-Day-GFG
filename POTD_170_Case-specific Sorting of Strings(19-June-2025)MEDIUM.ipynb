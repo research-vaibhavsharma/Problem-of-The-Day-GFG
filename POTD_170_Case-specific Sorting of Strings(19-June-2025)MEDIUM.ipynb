{
 "cells": [
  {
   "cell_type": "markdown",
   "id": "2ef504d9-0312-4d7f-afa8-8fa6b730db1f",
   "metadata": {},
   "source": [
    "# [Case-specific Sorting of Strings](https://www.geeksforgeeks.org/problems/case-specific-sorting-of-strings4845/1)"
   ]
  },
  {
   "cell_type": "code",
   "execution_count": 1,
   "id": "f15d3aab-8809-437b-8210-0434e82eaabe",
   "metadata": {},
   "outputs": [],
   "source": [
    "class Solution:\n",
    "    def caseSort(self, s):\n",
    "        upper_chars = []\n",
    "        lower_chars = []\n",
    "        \n",
    "        for char in s:\n",
    "            if char.isupper():\n",
    "                upper_chars.append(char)\n",
    "            else:\n",
    "                lower_chars.append(char)\n",
    "        \n",
    "        upper_chars.sort()\n",
    "        lower_chars.sort()\n",
    "        \n",
    "        result = []\n",
    "        i_upper = i_lower = 0\n",
    "        \n",
    "        for char in s:\n",
    "            if char.isupper():\n",
    "                result.append(upper_chars[i_upper])\n",
    "                i_upper += 1\n",
    "            else:\n",
    "                result.append(lower_chars[i_lower])\n",
    "                i_lower += 1\n",
    "        \n",
    "        return ''.join(result)"
   ]
  },
  {
   "cell_type": "markdown",
   "id": "cd2f2e9e-77d8-4b17-bb12-2e00ca39a434",
   "metadata": {},
   "source": [
    "## Problem Statement:\n",
    "Given a string s consisting of only uppercase and lowercase characters. The task is to sort uppercase and lowercase letters separately such that if the ith place in the original string had an Uppercase character then it should not have a lowercase character after being sorted and vice versa.\n",
    "\n",
    "## Approach:\n",
    "1. Create two lists: `upper_chars` and `lower_chars`.\n",
    "2. Iterate over string `s`, and:\n",
    "* Append each uppercase to `upper_chars`, each lowercase to `lower_chars`.\n",
    "  \n",
    "3. Sort `upper_chars` and `lower_chars`.\n",
    "\n",
    "4. Initialize two pointers: `i_upper` and `i_lower` to 0.\n",
    "\n",
    "5. For each character in the original string:\n",
    "\n",
    "* If it's uppercase, place `upper_chars[i_upper]`, and increment `i_upper`.\n",
    "\n",
    "* If it's lowercase, place `lower_chars[i_lower]`, and increment `i_lower`.\n",
    "\n",
    "6. Join the result list to form the final string.\n",
    "\n",
    "## Time Complexity:\n",
    "$O(n \\log n)$"
   ]
  }
 ],
 "metadata": {
  "kernelspec": {
   "display_name": "Python 3 (ipykernel)",
   "language": "python",
   "name": "python3"
  },
  "language_info": {
   "codemirror_mode": {
    "name": "ipython",
    "version": 3
   },
   "file_extension": ".py",
   "mimetype": "text/x-python",
   "name": "python",
   "nbconvert_exporter": "python",
   "pygments_lexer": "ipython3",
   "version": "3.12.9"
  }
 },
 "nbformat": 4,
 "nbformat_minor": 5
}
