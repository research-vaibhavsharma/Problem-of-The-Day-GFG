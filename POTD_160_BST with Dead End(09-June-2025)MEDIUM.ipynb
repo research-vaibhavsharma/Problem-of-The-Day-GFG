{
 "cells": [
  {
   "cell_type": "markdown",
   "id": "40ba2656-bae3-4add-9dfb-952a5b8a7219",
   "metadata": {},
   "source": [
    "# [BST with Dead End](https://www.geeksforgeeks.org/problems/check-whether-bst-contains-dead-end/1)"
   ]
  },
  {
   "cell_type": "code",
   "execution_count": 1,
   "id": "2e8a09ee-7586-4b97-b03a-4e8adb940c02",
   "metadata": {},
   "outputs": [],
   "source": [
    "class Solution:\n",
    "    def isDeadEnd(self, root):\n",
    "        # Helper function to check for dead ends\n",
    "        def checkDeadEnd(node, low, high):\n",
    "            if not node:\n",
    "                return False\n",
    "            # If this is a leaf node and low == high => dead end\n",
    "            if low == high:\n",
    "                return True\n",
    "            # Check left and right subtree with updated ranges\n",
    "            left_dead = checkDeadEnd(node.left, low, node.data - 1)\n",
    "            right_dead = checkDeadEnd(node.right, node.data + 1, high)\n",
    "            return left_dead or right_dead\n",
    "        return checkDeadEnd(root, 1, float('inf'))\n"
   ]
  },
  {
   "cell_type": "markdown",
   "id": "a6607bab-67ad-4522-b0dd-0de23feaaabb",
   "metadata": {},
   "source": [
    "## Problem Statement:\n",
    "Given a Binary Search Tree (BST) containing unique positive integers greater than 0.\n",
    "Your task is to determine whether the BST contains a dead end.\n",
    "Note: A dead end is a leaf node in the BST such that no new node can be inserted in the BST at or below this node while maintaining the BST property and the constraint that all node values must be > 0.\n",
    "\n",
    "## Approach:\n",
    "We need to traverse the BST and at each node keep track of the minimum and maximum values that can be inserted in the subtree rooted at that node.\n",
    "\n",
    "Step-by-step Explanation\n",
    "1. Start at the root, with the valid range for node values as:\n",
    "* min = 1 (since 0 is not allowed),\n",
    "* max = $\\infty$.\n",
    "\n",
    "2. Recursively check the left and right subtrees, updating the allowed range for node values:\n",
    "* For left child: range = (min, node.val - 1)\n",
    "* For right child: range = (node.val + 1, max)\n",
    "\n",
    "3. Base Case - Leaf Node:\n",
    "* If min == max, it means:\n",
    "    * No values are left for insertion in this range.\n",
    "    * Thus, a dead end exists.\n",
    "\n",
    "4. Return true if any subtree contains a dead end.\n",
    "\n",
    "## Time Complexity:\n",
    "$O(n)$ in time, where `n` is the number of nodes (since we traverse the entire tree once)."
   ]
  }
 ],
 "metadata": {
  "kernelspec": {
   "display_name": "Python 3 (ipykernel)",
   "language": "python",
   "name": "python3"
  },
  "language_info": {
   "codemirror_mode": {
    "name": "ipython",
    "version": 3
   },
   "file_extension": ".py",
   "mimetype": "text/x-python",
   "name": "python",
   "nbconvert_exporter": "python",
   "pygments_lexer": "ipython3",
   "version": "3.12.9"
  }
 },
 "nbformat": 4,
 "nbformat_minor": 5
}
