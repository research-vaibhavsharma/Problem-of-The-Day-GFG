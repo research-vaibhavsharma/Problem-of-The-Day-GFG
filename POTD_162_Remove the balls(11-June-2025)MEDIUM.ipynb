{
 "cells": [
  {
   "cell_type": "markdown",
   "id": "7ea5b433-40f2-461e-bcae-389ae9708dbc",
   "metadata": {},
   "source": [
    "# [Remove the Balls](https://www.geeksforgeeks.org/problems/remove-the-balls--170647/1)"
   ]
  },
  {
   "cell_type": "code",
   "execution_count": 1,
   "id": "bf6f2cd6-d44c-4b35-b618-50e51852bbbe",
   "metadata": {},
   "outputs": [],
   "source": [
    "class Solution:\n",
    "    def findLength(self, color, radius):\n",
    "        stack = []\n",
    "\n",
    "        for c, r in zip(color, radius):\n",
    "            if stack and stack[-1] == (c, r):\n",
    "                stack.pop()  # Remove the pair\n",
    "            else:\n",
    "                stack.append((c, r))  # Add current ball\n",
    "\n",
    "        return len(stack)  # Remaining balls"
   ]
  },
  {
   "cell_type": "markdown",
   "id": "620f8863-51a7-4e43-ad99-878471a169f0",
   "metadata": {},
   "source": [
    "## Problem Statements:\n",
    "You are given two arrays, color and radius, representing a sequence of balls:\n",
    "* color[i] is the color of the i-th ball.\n",
    "* radius[i] is the radius of the i-th ball.<br>\n",
    "\n",
    "If two consecutive balls have the same color and radius, remove them both. Repeat this process until no more such pairs exist.\n",
    "Return the number of balls remaining after all possible removals.\n",
    "\n",
    "## Approach:\n",
    "We can use a `stack-based` approach, which is efficient and intuitive for handling consecutive removals.\n",
    "1. use a stack to keep track of balls that haven't been removed yet. While iterating:\n",
    "    * If the `top` of the `stack` is equal to the `current` ball (`color[i]` and `radius[i]`), `pop` it (i.e., remove the pair).\n",
    "    * Otherwise, `push` the `current` ball onto the stack.\n",
    "\n",
    "## Time Complexity:\n",
    "* Time: $O(n)$, where n is the number of balls.\n",
    "* Space: $O(n)$ in the worst case (if no balls are removed)."
   ]
  }
 ],
 "metadata": {
  "kernelspec": {
   "display_name": "Python 3 (ipykernel)",
   "language": "python",
   "name": "python3"
  },
  "language_info": {
   "codemirror_mode": {
    "name": "ipython",
    "version": 3
   },
   "file_extension": ".py",
   "mimetype": "text/x-python",
   "name": "python",
   "nbconvert_exporter": "python",
   "pygments_lexer": "ipython3",
   "version": "3.12.9"
  }
 },
 "nbformat": 4,
 "nbformat_minor": 5
}
