{
 "cells": [
  {
   "cell_type": "markdown",
   "id": "fb45545c-8402-49f0-bd3f-b30b1c66b960",
   "metadata": {},
   "source": [
    "# [Equalize the Towers](https://www.geeksforgeeks.org/problems/equalize-the-towers2804/1)"
   ]
  },
  {
   "cell_type": "code",
   "execution_count": 1,
   "id": "b88a9bb2-2e8a-4b3c-a950-0b370bbe229f",
   "metadata": {},
   "outputs": [],
   "source": [
    "class Solution:\n",
    "    def minCost(self, heights, cost):\n",
    "        # Helper function to compute total cost to make all towers = target_height\n",
    "        def total_cost(target_height):\n",
    "            return sum(abs(h - target_height) * c for h, c in zip(heights, cost))\n",
    "\n",
    "        # Define the search space for height\n",
    "        low, high = min(heights), max(heights)\n",
    "\n",
    "        # Ternary search to find the height that gives the minimum cost\n",
    "        while high - low > 2:\n",
    "            mid1 = low + (high - low) // 3\n",
    "            mid2 = high - (high - low) // 3\n",
    "\n",
    "            cost1 = total_cost(mid1)\n",
    "            cost2 = total_cost(mid2)\n",
    "\n",
    "            if cost1 < cost2:\n",
    "                high = mid2\n",
    "            else:\n",
    "                low = mid1\n",
    "\n",
    "        # Brute-force check in the small final range [low, high]\n",
    "        return min(total_cost(h) for h in range(low, high + 1))\n"
   ]
  },
  {
   "cell_type": "markdown",
   "id": "4b8335d6-dd83-4022-aff5-f34787fdcbc0",
   "metadata": {},
   "source": [
    "## Problem Statement:\n",
    "You are given an array `heights[]` representing the heights of towers and another array `cost[]` where each element represents the cost of modifying the height of respective tower.\n",
    "* The goal is to make all towers of same height by either adding or removing blocks from each tower.\n",
    "* Modifying the `height` of tower (add or remove) `i` by 1 unit costs `cost[i]`.\n",
    "Return the minimum `cost` to equalize the heights of all towers.\n",
    "\n",
    "## Approach:Ternary Search\n",
    "1. Set search range: from `min(heights)` to `max(heights)` (because equal height must be within this range)\n",
    "\n",
    "2. While the search range has more than 2 elements:\n",
    "\n",
    "* Compute two mid points `mid1` and `mid2`\n",
    "\n",
    "* Compute `total_cost(mid1)` and `total_cost(mid2)`\n",
    "\n",
    "* If `cost(mid1)` < `cost(mid2)`, move the search space towards `mid1` (min is on the left)\n",
    "\n",
    "* Else, move it towards `mid2` (min is on the right)\n",
    "\n",
    "3. After the loop, compare costs for all values in the narrowed range (e.g., low to high) to get the minimum\n",
    "\n",
    "## Time Complexity:\n",
    "* Each iteration reduces the search range by $\\frac{1}{3}$ ⇒ $O(\\log(\\max H−\\min H))$\n",
    "* For each cost computation, we scan the entire array ⇒ $O(n)$\n",
    "* So overall time complexity is:$O(n⋅\\log(\\max H−\\min H))$\n"
   ]
  }
 ],
 "metadata": {
  "kernelspec": {
   "display_name": "Python 3 (ipykernel)",
   "language": "python",
   "name": "python3"
  },
  "language_info": {
   "codemirror_mode": {
    "name": "ipython",
    "version": 3
   },
   "file_extension": ".py",
   "mimetype": "text/x-python",
   "name": "python",
   "nbconvert_exporter": "python",
   "pygments_lexer": "ipython3",
   "version": "3.12.9"
  }
 },
 "nbformat": 4,
 "nbformat_minor": 5
}
