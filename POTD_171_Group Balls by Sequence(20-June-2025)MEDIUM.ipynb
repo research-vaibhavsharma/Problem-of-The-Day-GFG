{
 "cells": [
  {
   "cell_type": "markdown",
   "id": "2cf7cb4a-b5f3-4b85-a8dc-c62e02a2c61e",
   "metadata": {},
   "source": [
    "# [Group Balls by Sequence](https://www.geeksforgeeks.org/problems/group-balls-by-sequence/1)"
   ]
  },
  {
   "cell_type": "code",
   "execution_count": 1,
   "id": "c97b00dc-0e97-4ca8-817e-f317eb1dc395",
   "metadata": {},
   "outputs": [],
   "source": [
    "class Solution:\n",
    "    def validgroup(self, arr, k):\n",
    "        # Count frequency of each number\n",
    "        freq = {}\n",
    "        for num in arr:\n",
    "            freq[num] = freq.get(num, 0) + 1\n",
    "        \n",
    "        # Sort unique numbers to process in order\n",
    "        unique_nums = sorted(freq.keys())\n",
    "        \n",
    "        # Try to form groups greedily\n",
    "        for num in unique_nums:\n",
    "            # If this number has remaining count\n",
    "            while freq[num] > 0:\n",
    "                # Try to form a group starting from this number\n",
    "                # We need k consecutive numbers: num, num+1, num+2, ..., num+k-1\n",
    "                \n",
    "                # Check if we can form a complete group\n",
    "                can_form_group = True\n",
    "                for i in range(k):\n",
    "                    if freq.get(num + i, 0) == 0:\n",
    "                        can_form_group = False\n",
    "                        break\n",
    "                \n",
    "                if not can_form_group:\n",
    "                    return False\n",
    "                \n",
    "                # Form the group by reducing count of each number\n",
    "                for i in range(k):\n",
    "                    freq[num + i] -= 1\n",
    "        \n",
    "        return True\n"
   ]
  },
  {
   "cell_type": "markdown",
   "id": "90d60f85-4698-44a3-820b-2b52e31fa4b6",
   "metadata": {},
   "source": [
    "## Problem Statement:\n",
    "You are given an array `arr[]` of positive integers, where each element `arr[i]` represents the number written on the `i-th` ball, and a positive integer `k`.\n",
    "Your task is to determine whether it is possible to rearrange all the balls into groups such that:\n",
    "* Each group contains exactly k balls.\n",
    "* The numbers in each group are consecutive integers\n",
    "\n",
    "## Approach:\n",
    "\n",
    "1. Count frequencies of each number in the array\n",
    "2. Sort unique numbers to ensure we process them in ascending order\n",
    "3. Greedy group formation: For each number with remaining count:\n",
    "* Try to form a group starting from that number\n",
    "* Check if we have all `k` consecutive numbers available\n",
    "* If yes, decrement the count of each number in the group\n",
    "* If no, return `False`\n",
    "4. If we successfully process all numbers, return True\n",
    "\n",
    "## Time Complexity:\n",
    "* Time Complexity: $O(n \\log n)$ due to sorting, where n is the length of the array\n",
    "* Space Complexity: $O(n)$ for the frequency map"
   ]
  }
 ],
 "metadata": {
  "kernelspec": {
   "display_name": "Python 3 (ipykernel)",
   "language": "python",
   "name": "python3"
  },
  "language_info": {
   "codemirror_mode": {
    "name": "ipython",
    "version": 3
   },
   "file_extension": ".py",
   "mimetype": "text/x-python",
   "name": "python",
   "nbconvert_exporter": "python",
   "pygments_lexer": "ipython3",
   "version": "3.12.9"
  }
 },
 "nbformat": 4,
 "nbformat_minor": 5
}
