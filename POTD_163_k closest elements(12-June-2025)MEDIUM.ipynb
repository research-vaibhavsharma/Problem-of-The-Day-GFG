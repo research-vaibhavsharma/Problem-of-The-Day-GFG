{
 "cells": [
  {
   "cell_type": "markdown",
   "id": "6bb4fe13-c623-4498-b7c7-50e64aa22148",
   "metadata": {},
   "source": [
    "# [K closest elements](https://www.geeksforgeeks.org/problems/k-closest-elements3619/1)"
   ]
  },
  {
   "cell_type": "code",
   "execution_count": 1,
   "id": "f0f186e6-1129-4049-884d-cd296836855e",
   "metadata": {},
   "outputs": [],
   "source": [
    "import bisect\n",
    "\n",
    "class Solution:\n",
    "    def printKClosest(self, arr, k, x):\n",
    "        idx = bisect.bisect_left(arr, x)  # position where x would be inserted\n",
    "        left, right = idx - 1, idx\n",
    "        result = []\n",
    "\n",
    "        while k > 0:\n",
    "            left_val = arr[left] if left >= 0 else float('-inf')\n",
    "            right_val = arr[right] if right < len(arr) else float('inf')\n",
    "\n",
    "            # Skip x if it exists in the array\n",
    "            if right < len(arr) and arr[right] == x:\n",
    "                right += 1\n",
    "                continue\n",
    "\n",
    "            # Compare distances\n",
    "            left_diff = abs(left_val - x) if left >= 0 else float('inf')\n",
    "            right_diff = abs(right_val - x) if right < len(arr) else float('inf')\n",
    "\n",
    "            if left_diff < right_diff:\n",
    "                result.append(left_val)\n",
    "                left -= 1\n",
    "            elif right_diff < left_diff:\n",
    "                result.append(right_val)\n",
    "                right += 1\n",
    "            else:\n",
    "                # Tie case: prefer larger element\n",
    "                if left_val > right_val:\n",
    "                    result.append(left_val)\n",
    "                    left -= 1\n",
    "                else:\n",
    "                    result.append(right_val)\n",
    "                    right += 1\n",
    "            k -= 1\n",
    "\n",
    "        return result\n"
   ]
  },
  {
   "cell_type": "markdown",
   "id": "7719f554-0a22-48f9-bcbc-5d61c3da36d6",
   "metadata": {},
   "source": [
    "## Problem Statement\n",
    "You are given a sorted array `arr[]` of unique integers, an integer `k`, and a target value `x`. Return exactly k elements from the array closest to x, excluding x if it exists.<br>\n",
    "An element a is closer to x than b if:\n",
    "* `|a - x|` < `|b - x|`, or\n",
    "* `|a - x|` == `|b - x|` and `a > b` (i.e., prefer the larger element if tied)<br>\n",
    "Return the k closest` elements in order of closeness.\n",
    "## Approach: Binary Search + Two Pointers\n",
    "1. Binary Search: Find the index where `x` would fit using `bisect.bisect_left` or manual binary search. \n",
    "2. Two Pointers: Start two pointers:\n",
    "* `left = idx - 1` (element just before x)\n",
    "* `right = idx` (element just after x)\n",
    "3. Select elements: Until k elements are picked:\n",
    "* Compare `|arr[left] - x|` and `|arr[right] - x|`\n",
    "* If equal, pick the larger element\n",
    "* Avoid choosing `arr[i] == x`\n",
    "\n",
    "4. Append selected elements to a result list, tracking order of closeness.\n",
    "## Time \n",
    "* Binary Search: $O(\\log n)$\n",
    "* Two-pointer selection: $O(k)$\n",
    "* Total: $O(\\log n + k)$"
   ]
  }
 ],
 "metadata": {
  "kernelspec": {
   "display_name": "Python 3 (ipykernel)",
   "language": "python",
   "name": "python3"
  },
  "language_info": {
   "codemirror_mode": {
    "name": "ipython",
    "version": 3
   },
   "file_extension": ".py",
   "mimetype": "text/x-python",
   "name": "python",
   "nbconvert_exporter": "python",
   "pygments_lexer": "ipython3",
   "version": "3.12.9"
  }
 },
 "nbformat": 4,
 "nbformat_minor": 5
}
