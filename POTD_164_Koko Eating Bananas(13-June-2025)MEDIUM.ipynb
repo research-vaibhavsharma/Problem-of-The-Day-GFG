{
 "cells": [
  {
   "cell_type": "markdown",
   "id": "c9e692cf-74e7-4625-a32e-e1937fd8d1bc",
   "metadata": {},
   "source": [
    "# [Koko Eating Bananas](https://www.geeksforgeeks.org/problems/koko-eating-bananas/1)"
   ]
  },
  {
   "cell_type": "code",
   "execution_count": 1,
   "id": "7bf16178-80f8-456c-aa8c-715f9324c50d",
   "metadata": {},
   "outputs": [],
   "source": [
    "import math\n",
    "\n",
    "class Solution:\n",
    "    def kokoEat(self, arr, k):\n",
    "        def canFinish(speed):\n",
    "            hours = 0\n",
    "            for pile in arr:\n",
    "                hours += math.ceil(pile / speed)\n",
    "            return hours <= k\n",
    "        \n",
    "        low = 1\n",
    "        high = max(arr)\n",
    "        result = high\n",
    "        \n",
    "        while low <= high:\n",
    "            mid = (low + high) // 2\n",
    "            if canFinish(mid):\n",
    "                result = mid  # try to minimize s\n",
    "                high = mid - 1\n",
    "            else:\n",
    "                low = mid + 1\n",
    "        \n",
    "        return result\n"
   ]
  },
  {
   "cell_type": "markdown",
   "id": "a41c9537-08e8-400d-8046-4c13ff78a8e4",
   "metadata": {},
   "source": [
    "## Problem ststement:\n",
    "Koko is given an array `arr[]`, where each element represents a pile of bananas. She has exactly `k` hours to eat all the bananas.Each hour, Koko can choose one pile and eat up to s bananas from it.\n",
    "\n",
    "* If the pile has atleast `s` bananas, she eats exactly `s` bananas.\n",
    "\n",
    "* If the pile has fewer than `s` bananas, she eats the entire pile in that hour.<br>\n",
    "\n",
    "Koko can only eat from one pile per hour.Your task is to find the `minimum` value of s (bananas per hour) such that Koko can finish all the piles within `k` hours.\n",
    "\n",
    "\n",
    "## Approach: Binary Search\n",
    "1. Set `low = 1`, `high = max(arr)`.\n",
    "2. Perform binary search:\n",
    "* For mid-point `mid = (low + high) // 2`, check if Koko can eat all bananas in `k` hours with eating speed mid.\n",
    "* If yes, try to find a smaller `s` `(high = mid - 1)`.\n",
    "* If not, increase `s` `(low = mid + 1)`.\n",
    "3. The lowest `s` that satisfies the condition is the answer.<br>\n",
    "\n",
    "To check if Koko can eat all bananas at speed `s`:\n",
    "* For each pile, the time taken = `ceil(pile / s)`, or `math.ceil(pile / s)`.\n",
    "* Sum all such times and check if total `time ≤ k`.\n",
    "\n",
    "## Time Complexity:\n",
    "* Time Complexity:\t$O(N × \\log M)$\n",
    "* Space Complexity:\t$O(1)$."
   ]
  }
 ],
 "metadata": {
  "kernelspec": {
   "display_name": "Python 3 (ipykernel)",
   "language": "python",
   "name": "python3"
  },
  "language_info": {
   "codemirror_mode": {
    "name": "ipython",
    "version": 3
   },
   "file_extension": ".py",
   "mimetype": "text/x-python",
   "name": "python",
   "nbconvert_exporter": "python",
   "pygments_lexer": "ipython3",
   "version": "3.12.9"
  }
 },
 "nbformat": 4,
 "nbformat_minor": 5
}
