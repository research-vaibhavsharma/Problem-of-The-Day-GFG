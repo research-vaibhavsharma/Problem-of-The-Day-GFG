{
 "cells": [
  {
   "cell_type": "markdown",
   "id": "c65da628-e6ea-4609-b155-9e601f21f979",
   "metadata": {},
   "source": [
    "# [Exactly one swap](https://www.geeksforgeeks.org/problems/exactly-one-swap--170637/1)"
   ]
  },
  {
   "cell_type": "code",
   "execution_count": 1,
   "id": "5778f4bf-fb43-4096-8b3b-ac978295d97d",
   "metadata": {},
   "outputs": [],
   "source": [
    "from collections import Counter\n",
    "\n",
    "class Solution:\n",
    "    def countStrings(self, s):\n",
    "        n = len(s)\n",
    "        total_swaps = n * (n - 1) // 2\n",
    "\n",
    "        freq = Counter(s)\n",
    "\n",
    "        # Count swaps that don't change the string (same characters)\n",
    "        duplicate_swaps = sum(f * (f - 1) // 2 for f in freq.values())\n",
    "\n",
    "        # If there's any duplicate swap, it creates original string too\n",
    "        if duplicate_swaps > 0:\n",
    "            return total_swaps - duplicate_swaps + 1\n",
    "        else:\n",
    "            return total_swaps  # All swaps produce distinct strings\n"
   ]
  },
  {
   "cell_type": "markdown",
   "id": "a605467e-a817-4abf-9ad8-703c8d3bf2e2",
   "metadata": {},
   "source": [
    "## Problem Statement:\n",
    "Given a string s, return the number of distinct strings that can be obtained by exactly one swap of two different indices (i < j).\n",
    "\n",
    "## Approach:\n",
    "Two swaps of characters result in the same string if and only if the characters being swapped are the same and occur in the same relative positions.\n",
    "So instead of generating all swapped strings, we can:\n",
    "1. Count the total number of unique swaps that generate a new string.\n",
    "2. Use a set to track generated outcomes efficiently without generating them all.\n",
    "3. Avoid recomputing identical swaps.\n",
    "\n",
    "## Time Complexity:\n",
    "$O(n)$ for counting characters. $O(1)$ space for Counter if alphabet size is fixed."
   ]
  }
 ],
 "metadata": {
  "kernelspec": {
   "display_name": "Python 3 (ipykernel)",
   "language": "python",
   "name": "python3"
  },
  "language_info": {
   "codemirror_mode": {
    "name": "ipython",
    "version": 3
   },
   "file_extension": ".py",
   "mimetype": "text/x-python",
   "name": "python",
   "nbconvert_exporter": "python",
   "pygments_lexer": "ipython3",
   "version": "3.12.9"
  }
 },
 "nbformat": 4,
 "nbformat_minor": 5
}
