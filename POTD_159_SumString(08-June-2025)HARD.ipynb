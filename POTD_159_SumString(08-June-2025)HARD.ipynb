{
 "cells": [
  {
   "cell_type": "code",
   "execution_count": 1,
   "id": "9a537824-2083-4229-b627-e07fad7afa2d",
   "metadata": {},
   "outputs": [],
   "source": [
    "class Solution:\n",
    "    def isSumString(self, s):\n",
    "        n = len(s)\n",
    "        # Try all combinations of first and second numbers\n",
    "        for i in range(1, n):\n",
    "            for j in range(i + 1, n):\n",
    "                s1, s2 = s[:i], s[i:j]\n",
    "                # Skip if numbers have leading zeros (and are not '0')\n",
    "                if (len(s1) > 1 and s1[0] == '0') or (len(s2) > 1 and s2[0] == '0'):\n",
    "                    continue\n",
    "                num1, num2 = int(s1), int(s2)\n",
    "                if self.isValidSequence(num1, num2, s[j:]):\n",
    "                    return True\n",
    "        return False\n",
    "\n",
    "    def isValidSequence(self, num1, num2, remaining):\n",
    "        if not remaining:\n",
    "            return True\n",
    "        total = num1 + num2\n",
    "        total_str = str(total)\n",
    "        if remaining.startswith(total_str):\n",
    "            return self.isValidSequence(num2, total, remaining[len(total_str):])\n",
    "        else:\n",
    "            return False"
   ]
  },
  {
   "cell_type": "code",
   "execution_count": 2,
   "id": "a60e7ab5-cdba-41bf-818a-de7bc7fb534e",
   "metadata": {},
   "outputs": [
    {
     "name": "stdout",
     "output_type": "stream",
     "text": [
      "True\n",
      "True\n",
      "False\n"
     ]
    }
   ],
   "source": [
    "sol = Solution()\n",
    "print(sol.isSumString(\"12243660\"))     # True\n",
    "print(sol.isSumString(\"1111112223\"))   # True\n",
    "print(sol.isSumString(\"123456\"))       # False\n"
   ]
  },
  {
   "cell_type": "markdown",
   "id": "4a86feb9-b164-4d09-8b53-771c2cca6dec",
   "metadata": {},
   "source": [
    "# Approach: Backtracking + Recursive Verification\n",
    "\n",
    "## Key Observations:\n",
    "Each number in the split must not have leading zeroes (unless the number is \"0\"). We can choose the first and second number with varying lengths and then generate the rest of the sequence to see if it matches the string. This is a trial-and-error problem, where we try different splits and verify recursively.\n",
    "## Steps:\n",
    "1. Try all combinations of first and second numbers:\n",
    "    * For `i` from `1` to `n-2` (first number’s length)\n",
    "    * For `j` from `i+1` to `n-1` (second number’s length)\n",
    "    * Ensure no leading zeroes unless the number is `\"0\"`.\n",
    "2. Convert the two substrings to integers: `num1`, `num2`.\n",
    "3. Call a recursive function (or loop iteratively) to check if the rest of the string matches the sum-string pattern:\n",
    "    * Compute `num3` = `num1` + `num2`\n",
    "    * Convert `num3` to string, and check if the current position in the original string starts with `str(num3)`\n",
    "    * If yes, move forward: now `num1` = `num2`, `num2` = `num3`, and `repeat`.\n",
    "    * If we reach the end of the string using valid additions, return `True`.\n",
    "4. If no valid split works, return `False`."
   ]
  }
 ],
 "metadata": {
  "kernelspec": {
   "display_name": "Python 3 (ipykernel)",
   "language": "python",
   "name": "python3"
  },
  "language_info": {
   "codemirror_mode": {
    "name": "ipython",
    "version": 3
   },
   "file_extension": ".py",
   "mimetype": "text/x-python",
   "name": "python",
   "nbconvert_exporter": "python",
   "pygments_lexer": "ipython3",
   "version": "3.12.9"
  }
 },
 "nbformat": 4,
 "nbformat_minor": 5
}
